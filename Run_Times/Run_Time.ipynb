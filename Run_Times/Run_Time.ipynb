{
 "cells": [
  {
   "cell_type": "markdown",
   "id": "4296ea77",
   "metadata": {},
   "source": [
    "\\title{Time Analysis}\n",
    "\n",
    "\\author{John Mateus-R}\n",
    "\n",
    "With this algorithm we make an initial analysis for simulation parameters $\\delta t$ and $N_{\\text{iter}}$, which depends on the initial particle number, $N_0$, critical length fusion, $l_f$ and inverse temperature, $\\beta$, as follows:\n",
    "$$\n",
    "    \\delta t = 2\\left(\\frac{\\pi}{N_0}\\right)^2\\left(\\frac{l_f}{10}\\right)^2\\beta\\,,\\qquad N_{\\text{iter}} = \\frac{100}{\\delta t}\\,.\n",
    "$$\n",
    "\n",
    "(Note that Niter ensures that the total time for fusion process is around $10^2$ virtual seconds).\n",
    "\n",
    "To make the analysis we start with two arrays for $l_f$ and $\\beta$: $l_f=\\{0.1, 0.5, 1.0, 1.5, ... , 8.0\\}$ and $\\beta = \\{0.1, 0.2, 0.4, ... , 4.0\\}$ and calculates $\\delta t$ for each pair of values $(l_f, \\beta)$. With this in mind we finally have a data matrix for all $\\delta t$ values.\n",
    "\n",
    "The matrix found is mapped into a matrix with its entries are the magnitud order (MO) of $\\delta t$ values. The idea here is find the regions with same MO and then test the time to takes run the simulation script for the fusion process.\n",
    "\n",
    "We select some pairs of values $(l_f, \\beta)$ to test in the cluster for the simulation script. The script is submited in the cluster and we register the time that script takes to perform all calculus.\n",
    "\n",
    "For this process we take three regions:\n",
    "\n",
    "\\begin{enumerate}\n",
    "\n",
    "\\item Region A: $dt=10^{-6}$, $N_{\\text{iter}}=10^8$.\n",
    "    \n",
    "\\item Region B: $dt=10^{-5}$, $N_{\\text{iter}}=10^7$.\n",
    "    \n",
    "\\item Region C: $dt=10^{-4}$, $N_{\\text{iter}}=10^6$.\n",
    "\n",
    "\\end{enumerate}\n",
    "\n",
    "For each region we choose some values for lf and beta as follows:\n",
    "    \n",
    "\\begin{enumerate}\n",
    "\n",
    "\\item Region A: $l_f = \\{0.5, 1.0, 3.5, 6.0\\}$, $\\beta = \\{0.1, 1.0, 3.0\\}$.\n",
    "    \n",
    "\\item Region B: $l_f = \\{1.5, 3.0, 5.0, 7.5\\}$, $\\beta = \\{0.1, 1.0, 3.0\\}$.\n",
    "    \n",
    "\\item Region C: $l_f = \\{4.0, 5.0, 6.0, 7.0, 8.0\\}$, $\\beta = \\{0.8, 1.8, 3.0, 4.0\\}$.\n",
    "   \n",
    "\\end{enumerate}\n",
    "\n",
    "Furthermore, to make a statistics, the script is subimted using --array=0-xx option in sbatch where xx takes the values xx = {50, 100, 150}. The other parameters for run the script are:\n",
    "\n",
    "\\begin{itemize}\n",
    "\n",
    "\\item N=100       \\# Initial particle number\n",
    "    \n",
    "\\item Nsim=1      \\# Total number of simulations\n",
    "    \n",
    "\\item Nsimst=1    \\# Name for the fisrt simulation\n",
    "    \n",
    "\\item stf=0       \\# Initialize the fusion process at virtual time = 0\n",
    "   \n",
    "\\end{itemize}"
   ]
  },
  {
   "cell_type": "code",
   "execution_count": 1,
   "id": "2bc18bd0",
   "metadata": {},
   "outputs": [],
   "source": [
    "#----------------Import libraries----------------#\n",
    "\n",
    "from math import log10, floor\n",
    "import numpy as np\n",
    "import pandas as pd\n",
    "import matplotlib as pl\n",
    "import matplotlib.pyplot as pl\n",
    "import matplotlib.gridspec as gs"
   ]
  },
  {
   "cell_type": "code",
   "execution_count": 2,
   "id": "6b72ed41",
   "metadata": {},
   "outputs": [],
   "source": [
    "#----------------Functions defintions----------------#\n",
    "\n",
    "    # Print number in scientific notation:\n",
    "def sci_num(number):\n",
    "    num = np.format_float_scientific(number, precision = 0, exp_digits=1)\n",
    "    return num.replace('.', '')\n",
    "\n",
    "    # Creates data file name:\n",
    "def read_data_file_name(Niter, dt, CPU):\n",
    "    return 'Niter'+str(Niter)+'_dt'+str(sci_num(dt))+'_CPU'+str(CPU)+'.csv'\n",
    "\n",
    "    # Calculates dt time step as a function of number particles, fusion lenght and beta:\n",
    "def delta_t(N0, LF, BETA):\n",
    "    dt = 2*((np.pi*LF)/(10*N0))**2*BETA\n",
    "    return dt\n",
    "\n",
    "    # Find the magnitud order of a given number\n",
    "def find_exp(number) -> int:\n",
    "    base10 = log10(abs(number))\n",
    "    return floor(base10)\n",
    "\n",
    "    # Find average times and std for data:\n",
    "def Average_Time(k, DT, lf, beta, CPU):\n",
    "    k = 1\n",
    "    T_lf = pd.DataFrame()\n",
    "    for i in range(len(lf[k])):\n",
    "        n = len(beta[k])\n",
    "        aux = pd.DataFrame()\n",
    "        for j in range(len(CPU)):\n",
    "            fst_mean = np.mean(DT['Mean_t(min)_'+str(CPU[j])][n*i:n*(i+1)])\n",
    "            fst_std = np.mean(DT['Std_t(min)_'+str(CPU[j])][n*i:n*(i+1)])\n",
    "            aux1 = pd.DataFrame([[fst_mean, fst_std]], columns=['Total_time', 'Std_Time'])\n",
    "            aux = pd.concat([aux, aux1], ignore_index=True)\n",
    "        scn_mean = np.mean(aux['Total_time'])\n",
    "        scn_std = np.mean(aux['Std_Time'])\n",
    "        aux2 = pd.DataFrame([[lf[k][i], scn_mean, scn_std]], columns=['lf', 'Total_time', 'Std_Time'])\n",
    "        T_lf = pd.concat([T_lf, aux2], ignore_index=True)\n",
    "    return T_lf"
   ]
  },
  {
   "cell_type": "code",
   "execution_count": 3,
   "id": "92c34b5a",
   "metadata": {},
   "outputs": [],
   "source": [
    "#----------------General parameters----------------#\n",
    "\n",
    "N=100       # Initial particle number\n",
    "Nsim=1      # Total number of simulations\n",
    "Nsimst=1    # Name for the fisrt simulation\n",
    "stf=0       # Initialize the fusion process at virtual time = 0\n",
    "\n",
    "    # Lenghts fusion values for test:\n",
    "Lf = [0.1, 0.5, 1.0, 1.5, 2.0, 2.5, 3.0, 3.5, 4.0, 4.5, 5.0, 5.5, 5.5, 6.0, 6.5, 7.0, 7.5, 8.0]\n",
    "    # Beta values for test:\n",
    "Betas = [0.1, 0.2, 0.4, 0.6, 0.8, 1.0, 1.2, 1.4, 1.6, 1.8, 2.0, 2.2, 2.4, 2.6, 2.8, 3.0, 3.2, 3.4, 3.6, 3.8, 4.0]\n",
    "\n",
    "    # Creates a matrix of delta t values for each pair of parameters lf and beta:\n",
    "DTs = np.empty([len(Lf), len(Betas)])\n",
    "\n",
    "    # Creates a matrix of magnitud order (MO) for delta t for each pair of parameters lf and beta:\n",
    "DTs_Exps = np.empty([len(Lf), len(Betas)])\n",
    "for i in range(len(Lf)):\n",
    "    for j in range(len(Betas)):\n",
    "        DTs[i][j] = delta_t(N, Lf[i], Betas[j])\n",
    "        DTs_Exps[i][j] = find_exp(delta_t(N, Lf[i], Betas[j]))\n",
    "\n",
    "    # Converts the array DTs to data frame DT (best screen visualization):\n",
    "DT = pd.DataFrame(DTs, index=Lf, columns=Betas)\n",
    "DT_Exps = pd.DataFrame(DTs_Exps, index=Lf, columns=Betas)\n",
    "#print(DT)\n",
    "#print(DT_Exps)"
   ]
  },
  {
   "cell_type": "markdown",
   "id": "4c2c3dad",
   "metadata": {},
   "source": [
    "Once we have all initial data parameters, we proceded with the analysis for the regions of possible interest. The idea is find the optimal pairs $(l_f, \\beta)$ for which $\\delta t$ and $N_{\\text{iter}}$ allow us work with practical times in the cluster when we run the simulation script.\n",
    "\n",
    "For this purpose we make a count of $\\delta t$-MO for each value of $\\beta$ (a histogram of $\\delta t$-MO). To normalize all data we sum over each $\\beta$ value for all $\\delta t$-MO and thus find the complete histogram of $\\delta t$-MO."
   ]
  },
  {
   "cell_type": "code",
   "execution_count": 4,
   "id": "09530f90",
   "metadata": {},
   "outputs": [],
   "source": [
    "#----------------Data Organization----------------#\n",
    "\n",
    "    # Makes a \"histogram\" of dt-MO for each value of beta-parameter:\n",
    "His_aux = DT_Exps.apply(pd.Series.value_counts)\n",
    "His_aux = His_aux.fillna(0) # Replace all NaN values with zeros\n",
    "\n",
    "His = pd.DataFrame() # Makes final count-histogram of dt-MO\n",
    "for i in His_aux.index:\n",
    "    aux = 0\n",
    "    for j in Betas:\n",
    "        aux = aux+His_aux[j][i]\n",
    "    Aux = pd.DataFrame([[i, aux]], columns=['OM_dt', 'N_OM_dt'])\n",
    "    His = pd.concat([His, Aux], ignore_index=True)\n",
    "\n",
    "n_Dt = sum(His['N_OM_dt']) # Finds total data present in the dt-MO-histogram\n",
    "His['N_OM_dt'] = His['N_OM_dt']/n_Dt # Normalize data points\n",
    "\n",
    "Maxs = DT_Exps.max() # Finds Maxs values per column in dt-MO data:\n",
    "Max = Maxs.max() # Finds Max value in dt-MO data:\n",
    "Mins = DT_Exps.min() # Finds Mins values per column in dt-MO data:\n",
    "Min = Mins.min() # Finds Min value in dt-MO data:"
   ]
  },
  {
   "cell_type": "code",
   "execution_count": 5,
   "id": "c0d1dd36",
   "metadata": {},
   "outputs": [
    {
     "data": {
      "image/png": "[encoded data removed]",
      "text/plain": [
       "<Figure size 864x576 with 1 Axes>"
      ]
     },
     "metadata": {
      "needs_background": "light"
     },
     "output_type": "display_data"
    }
   ],
   "source": [
    "#----------------Now start to make the plots----------------#\n",
    "\n",
    "dt_ticks = np.arange(Min, Max+1) # Ticks for the x-axis and 1st colorbar\n",
    "Niter_ticks = 2-dt_ticks # Ticks for 2nd color bar\n",
    "Percent_ticks = His['N_OM_dt'].to_numpy() # Ticks for 3rd color bar\n",
    "\n",
    "cmap = pl.get_cmap('bwr', Max-Min+1)\n",
    "\n",
    "fig, ax = pl.subplots(figsize=(12, 8))\n",
    "\n",
    "    # Initial settings for the plot:\n",
    "ax.set_title(r'$\\delta$t-Magnitud Order', size=22)\n",
    "ax.tick_params(axis='both', labelsize=11)\n",
    "ax.set_xlabel(r'$\\beta$', size=18)\n",
    "ax.set_ylabel(r'$l_f$', size=18)\n",
    "ax.set_xticks(Betas)\n",
    "ax.set_yticks(Lf)\n",
    "\n",
    "f = ax.pcolormesh(Betas, Lf, DT_Exps, cmap=cmap, alpha=0.8, vmin=Min-0.5, vmax=Max+0.5)\n",
    "\n",
    "    # Set the color bars convention (dt-MO, Niter-MO, percent data present):\n",
    "ax1 = ax.inset_axes([1.02, 0, 0.02, 1]) # 1st color bar for dt-MO\n",
    "cb1 = pl.colorbar(f, cax=ax1, ticks=dt_ticks)\n",
    "cb1.set_label(r'$\\delta$ t (MO)', size=16, loc='bottom')\n",
    "cb1.ax.set_yticklabels(['{:.0f}'.format(i) for i in dt_ticks], size=12)\n",
    "\n",
    "ax2 = ax.inset_axes([1.14, 0, 0, 1]) # 2nd color bar for Niter-MO\n",
    "cb2 = pl.colorbar(f, cax=ax2, ticks=dt_ticks)\n",
    "cb2.set_label('Niter (MO)', size=16, loc='bottom')\n",
    "cb2.ax.set_yticklabels(['{:.0f}'.format(i) for i in Niter_ticks], size=12)\n",
    "\n",
    "ax3 = ax.inset_axes([1.23, 0, 0, 1]) # 3rd color bar for percent data present\n",
    "cb3 = pl.colorbar(f, cax=ax3, ticks=dt_ticks)\n",
    "cb3.set_label('% Data', size=16, loc='bottom')\n",
    "cb3.ax.set_yticklabels(['{:.2%}'.format(i) for i in Percent_ticks], size=12)\n",
    "\n",
    "    # Put text name for interest regions:\n",
    "pl.text(0.35, 0.7, 'A', fontsize=20) # Region A: dt~10^(-6), Niter~10^(8)\n",
    "pl.text(0.75, 1.5, 'B', fontsize=20) # Region B: dt~10^(-5), Niter~10^(7)\n",
    "pl.text(1.35, 4.0, 'C', fontsize=20) # Region C: dt~10^(-4), Niter~10^(6)\n",
    "\n",
    "pl.show()\n",
    "\n",
    "fig.savefig('dt_Relevance.png')\n",
    "pl.close(fig)"
   ]
  },
  {
   "cell_type": "markdown",
   "id": "a1343822",
   "metadata": {},
   "source": [
    "Each region in the plot defines a set of pairs $(l_f, \\beta)$ and correspond to a fixed value of $\\delta t$-MO (this value in fact allow define the region in the plot). The three regions, A, B, and C, contains 61.38\\% of the data, and also defines the behavior of the $l_f$ and $\\beta$ parameters, thus, for region A we have small $\\beta$ and $l_f$; for region B we have all range for $\\beta$ and intermedium $l_f$, and for region C we have all range for $\\beta$ and medium-large values for $l_f$. Finally, note that for upper-red region we have large values for $\\beta$ and $l_f$.\n",
    "\n",
    "The question now is, how much time will take for the scritp to make all calculus for the fusion process?\n",
    "\n",
    "To answer this question, we take a sample of parameters for $l_f$ and $\\beta$ according to each region A, B and C; and then we submit the scrip to the cluster using differents arrays as we mention before.\n",
    "\n",
    "We register the time it takes for the script to finish in a table (in csv format) as follows:\n",
    "\n",
    "lf | beta | T_time_(ns)\n",
    "\n",
    "Note that the time is registered in nanoseconds, therefore, we have to transform it to minutes. The name for the time recording csv is:\n",
    "\n",
    "NiterXXX_dtXXX_CPUXXX.csv\n",
    "\n",
    "Here, CPUXXX is the number or arrays choosen for the cluster and therefore we need to make a statistics over CPUXXX number."
   ]
  },
  {
   "cell_type": "code",
   "execution_count": 6,
   "id": "dfe940cd",
   "metadata": {},
   "outputs": [],
   "source": [
    "#----------------Convention in arrays per region: [C, B, A]----------------#\n",
    "Niter = [1000000, 10000000, 100000000]\n",
    "dt = [1e-4, 1e-5, 1e-6]\n",
    "beta = [[0.8, 1.8, 3.0, 4.0], [0.1, 1.0, 3.0], [0.1, 1.0, 3.0]]\n",
    "lf = [[4.0, 5.0, 6.0, 7.0, 8.0], [1.5, 3.0, 5.0, 7.5], [0.5, 1.0, 3.5, 6.0]]\n",
    "\n",
    "CPU=[50, 100, 150]"
   ]
  },
  {
   "cell_type": "code",
   "execution_count": 7,
   "id": "1180e665",
   "metadata": {},
   "outputs": [
    {
     "data": {
      "text/plain": [
       "['Niter1000000_dt1e-4_CPU50.csv',\n",
       " 'Niter1000000_dt1e-4_CPU100.csv',\n",
       " 'Niter1000000_dt1e-4_CPU150.csv',\n",
       " 'Niter10000000_dt1e-5_CPU50.csv',\n",
       " 'Niter10000000_dt1e-5_CPU100.csv',\n",
       " 'Niter10000000_dt1e-5_CPU150.csv',\n",
       " 'Niter100000000_dt1e-6_CPU50.csv',\n",
       " 'Niter100000000_dt1e-6_CPU100.csv',\n",
       " 'Niter100000000_dt1e-6_CPU150.csv']"
      ]
     },
     "execution_count": 7,
     "metadata": {},
     "output_type": "execute_result"
    }
   ],
   "source": [
    "#----------------Read data file names----------------#\n",
    "# Type name: NiterXXX_dtXXX_CPUXXX.csv\n",
    "# Columns names: lf - beta - T_time_(ns)\n",
    "# Time is in nanoseconds\n",
    "\n",
    "f_names = []\n",
    "for i in range(len(Niter)):\n",
    "    for j in CPU:\n",
    "        f_names.append(read_data_file_name(Niter[i], dt[i], j))\n",
    "f_names"
   ]
  },
  {
   "cell_type": "code",
   "execution_count": 8,
   "id": "fabbbf7f",
   "metadata": {},
   "outputs": [
    {
     "name": "stdout",
     "output_type": "stream",
     "text": [
      "     lf  beta  Mean_t(min)_50  Std_t(min)_50  Mean_t(min)_100  Std_t(min)_100  \\\n",
      "0   1.5   0.1        7.482194       1.180573         7.198836        1.609245   \n",
      "1   1.5   1.0        7.543315       1.111489         7.227693        1.591399   \n",
      "2   1.5   3.0        7.598963       1.053285         7.250480        1.583348   \n",
      "3   3.0   0.1       23.022422      16.090371        21.474101       15.299100   \n",
      "4   3.0   1.0       23.209646      16.062687        21.560193       15.289091   \n",
      "5   3.0   3.0       23.396762      16.036721        21.643857       15.282145   \n",
      "6   5.0   0.1       37.766409      25.236086        37.759983       27.347082   \n",
      "7   5.0   1.0       37.989759      25.172435        37.871749       27.324287   \n",
      "8   5.0   3.0       38.213526      25.109206        37.982075       27.303529   \n",
      "9   7.5   0.1       29.862785      25.794691        29.934122       27.297795   \n",
      "10  7.5   1.0       29.990301      25.796465        29.998263       27.301860   \n",
      "11  7.5   3.0       30.117159      25.799534        30.061086       27.307319   \n",
      "\n",
      "    Mean_t(min)_150  Std_t(min)_150  \n",
      "0          6.160360        1.023907  \n",
      "1          6.170182        1.020269  \n",
      "2          6.179513        1.017354  \n",
      "3         18.989045       13.199418  \n",
      "4         19.036845       13.195525  \n",
      "5         19.084656       13.191766  \n",
      "6         33.218396       23.111211  \n",
      "7         33.281919       23.097659  \n",
      "8         33.345519       23.084119  \n",
      "9         26.311929       23.319134  \n",
      "10        26.348014       23.321846  \n",
      "11        26.384066       23.324655  \n"
     ]
    }
   ],
   "source": [
    "#----------------Statistical analysis of data----------------#\n",
    "\n",
    "\n",
    "# Each pair of parameters (lf, beta) runs over CPU_number (50, 100, 150).\n",
    "# Analize data statistically over CPU_number runs.\n",
    "\n",
    "for i in range(len(Niter)):\n",
    "    Mean_Time = pd.DataFrame()\n",
    "    for r in range(len(lf[i])):\n",
    "        for s in range(len(beta[i])):\n",
    "            aux = pd.DataFrame([[ lf[i][r], beta[i][s] ]], columns=['lf','beta'])\n",
    "            Mean_Time = pd.concat([Mean_Time, aux], ignore_index=True)\n",
    "    #print(Mean_Time)\n",
    "    for j in range(len(CPU)):\n",
    "        Data = pd.read_csv(read_data_file_name(Niter[i], dt[i], CPU[j]))\n",
    "        Data = Data.sort_values(by=['lf', 'beta'])\n",
    "        Means = pd.DataFrame()\n",
    "        for k in range(len(lf[i])):\n",
    "            Mean_aux0 = pd.DataFrame()\n",
    "            for l in range(len(beta[i])):\n",
    "                # Find average time and std deviation for each beta value\n",
    "                # 6e10 convert factor to minutes\n",
    "                mean = np.mean(Data[l:int(CPU[j])*(k+1)]['T_time_(ns)'])/6e10\n",
    "                std_dev = np.std(Data[l:int(CPU[j])*(k+1)]['T_time_(ns)'])/6e10\n",
    "                Mean_aux1 = pd.DataFrame([[ mean, std_dev ]],\n",
    "                                    columns=['Mean_t(min)_'+str(CPU[j]), 'Std_t(min)_'+str(CPU[j])])\n",
    "                Mean_aux0 = pd.concat([ Mean_aux0, Mean_aux1 ], axis=0)\n",
    "            Means = pd.concat([Means, Mean_aux0], ignore_index=True)\n",
    "        Mean_Time = pd.concat([Mean_Time, Means], axis=1)\n",
    "    if i == 0:\n",
    "        Mean_C = Mean_Time # Time data for region C\n",
    "    if i == 1:\n",
    "        Mean_B = Mean_Time # Time data for region B\n",
    "    if i == 2:\n",
    "        Mean_A = Mean_Time # Time data for region A\n",
    "    file_name_output = 'Niter'+str(Niter[i])+'_dt'+str(sci_num(dt[i]))+'.csv'\n",
    "    Mean_Time.to_csv(file_name_output)\n",
    "\n",
    "#print(Mean_A) # Time data for region C\n",
    "print(Mean_B) # Time data for region B\n",
    "#print(Mean_C) # Time data for region C"
   ]
  },
  {
   "cell_type": "markdown",
   "id": "64be68b4",
   "metadata": {},
   "source": [
    "Note in the tables that for $\\beta$ values the time is approx. the same, therefore, we make the plots with time as a function of $l_f$. This means that the total time $T$ not depends on $\\beta$ values apperciably, only depends on $l_f$ values, so, we'll analyze this dependence only.\n",
    "\n",
    "The same occurs for the dependence of total time $T$ with the number of CPU's used to run the script. Therefore, we see that $T$ dependes only on $l_f$."
   ]
  },
  {
   "cell_type": "code",
   "execution_count": 9,
   "id": "dc029448",
   "metadata": {},
   "outputs": [
    {
     "name": "stdout",
     "output_type": "stream",
     "text": [
      "    lf  Total_time  Std_Time\n",
      "0  1.5    1.910804  0.246777\n",
      "1  3.0    2.363709  0.596274\n",
      "2  5.0    2.836000  0.936506\n",
      "3  7.5    3.325487  1.266437\n",
      "    lf  Total_time   Std_Time\n",
      "0  1.5    6.979060   1.243430\n",
      "1  3.0   21.268614  14.849647\n",
      "2  5.0   36.381037  25.198402\n",
      "3  7.5   28.778636  25.473700\n",
      "    lf  Total_time    Std_Time\n",
      "0  1.5   71.218643    9.725377\n",
      "1  3.0  154.967230  105.189166\n",
      "2  5.0  268.360129  188.644058\n",
      "3  7.5  313.940161  276.235035\n"
     ]
    }
   ],
   "source": [
    "#----------------Final data to plot----------------#\n",
    "\n",
    "T_lf_C = Average_Time(0, Mean_C, lf, beta, CPU) # k=0 corresponds to Region C\n",
    "T_lf_B = Average_Time(1, Mean_B, lf, beta, CPU) # k=1 corresponds to Region B\n",
    "T_lf_A = Average_Time(2, Mean_A, lf, beta, CPU) # k=2 corresponds to Region A\n",
    "print(T_lf_C)\n",
    "print(T_lf_B)\n",
    "print(T_lf_A)"
   ]
  },
  {
   "cell_type": "code",
   "execution_count": 13,
   "id": "f7990071",
   "metadata": {},
   "outputs": [
    {
     "data": {
      "image/png": "[encoded data removed]",
      "text/plain": [
       "<Figure size 864x576 with 1 Axes>"
      ]
     },
     "metadata": {
      "needs_background": "light"
     },
     "output_type": "display_data"
    }
   ],
   "source": [
    "#----------------Plot analysis----------------#\n",
    "\n",
    "    # Axis for Region C:\n",
    "x_C = T_lf_C['lf']\n",
    "y_C = T_lf_C['Total_time']\n",
    "y_C_er = T_lf_C['Std_Time']\n",
    "\n",
    "    # Axis for Region B:\n",
    "x_B = T_lf_B['lf']\n",
    "y_B = T_lf_B['Total_time']\n",
    "y_B_er = T_lf_B['Std_Time']\n",
    "\n",
    "    # Axis for Region A:\n",
    "x_A = T_lf_A['lf']\n",
    "y_A = T_lf_A['Total_time']\n",
    "y_A_er = T_lf_A['Std_Time']\n",
    "\n",
    "fig, ax = pl.subplots(figsize=(12, 8))\n",
    "\n",
    "    # Initial settings for the plot:\n",
    "ax.set_title('Total Time for One Simulation', size=22)\n",
    "ax.tick_params(axis='both', labelsize=12)\n",
    "ax.set_xlabel(r'$l_f$', size=18)\n",
    "ax.set_ylabel('Time (min)', size=18)\n",
    "\n",
    "pl.plot(x_C, y_C, c='blue')\n",
    "pl.plot(x_B, y_B, c='orange')\n",
    "pl.plot(x_A, y_A, c='green')\n",
    "\n",
    "pl.errorbar(x_C, y_C, y_C_er,\n",
    "            label=r'C: $\\delta t$~$10^{-4}$, Niter~$10^6$', fmt='o', capsize=10, ms = 5, c='blue')\n",
    "pl.errorbar(x_B, y_B, y_B_er,\n",
    "            label=r'B: $\\delta t$~$10^{-5}$, Niter~$10^7$', fmt='o', capsize=10, ms = 5, c='orange')\n",
    "pl.errorbar(x_A, y_A, y_A_er,\n",
    "            label=r'A: $\\delta t$~$10^{-6}$, Niter~$10^8$', fmt='o', capsize=10, ms = 5, c='green')\n",
    "pl.legend(title='Region', loc='upper left', fontsize=14, title_fontsize=16)\n",
    "\n",
    "pl.show()\n",
    "\n",
    "fig.savefig('Total_time_per_Simulation.png')\n",
    "pl.close(fig)"
   ]
  },
  {
   "cell_type": "code",
   "execution_count": 11,
   "id": "2665b9d5",
   "metadata": {},
   "outputs": [
    {
     "data": {
      "image/png": "[encoded data removed]",
      "text/plain": [
       "<Figure size 432x288 with 1 Axes>"
      ]
     },
     "metadata": {
      "needs_background": "light"
     },
     "output_type": "display_data"
    }
   ],
   "source": [
    "N_t1 = pd.read_csv('N100_Niter100000000_Nsim1_beta0.1_dt1e-06_lf1.0.csv')\n",
    "N_t1\n",
    "\n",
    "N_t2 = pd.read_csv('N100_Niter10000000_Nsim1_beta0.1_dt1e-05_lf1.5.csv')\n",
    "N_t2\n",
    "\n",
    "pl.plot(N_t1['t_1'], N_t1['N_1'], label='-6')\n",
    "pl.plot(N_t2['t_1'], N_t2['N_1'], label='-5')\n",
    "pl.legend()\n",
    "pl.xscale('log')\n",
    "pl.show()"
   ]
  },
  {
   "cell_type": "code",
   "execution_count": null,
   "id": "a80e7884",
   "metadata": {},
   "outputs": [],
   "source": []
  },
  {
   "cell_type": "code",
   "execution_count": null,
   "id": "1bce419d",
   "metadata": {},
   "outputs": [],
   "source": []
  }
 ],
 "metadata": {
  "kernelspec": {
   "display_name": "Python 3 (ipykernel)",
   "language": "python",
   "name": "python3"
  },
  "language_info": {
   "codemirror_mode": {
    "name": "ipython",
    "version": 3
   },
   "file_extension": ".py",
   "mimetype": "text/x-python",
   "name": "python",
   "nbconvert_exporter": "python",
   "pygments_lexer": "ipython3",
   "version": "3.8.10"
  }
 },
 "nbformat": 4,
 "nbformat_minor": 5
}
